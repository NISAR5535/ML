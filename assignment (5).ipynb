{
 "cells": [
  {
   "cell_type": "code",
   "execution_count": 45,
   "metadata": {},
   "outputs": [
    {
     "name": "stdout",
     "output_type": "stream",
     "text": [
      "[nltk_data] Downloading package stopwords to\n",
      "[nltk_data]     C:\\Users\\hp\\AppData\\Roaming\\nltk_data...\n",
      "[nltk_data]   Unzipping corpora\\stopwords.zip.\n"
     ]
    }
   ],
   "source": [
    "##ASSIGNMENT##\n",
    "import numpy as np \n",
    "import pandas as pd\n",
    "\n",
    "import re\n",
    "import nltk\n",
    "nltk.download('stopwords')\n",
    "from nltk.corpus import stopwords\n",
    "\n",
    "dataset=pd.read_csv('C:/Users/hp/Desktop/DS assignment 2 - ADR Clasification/Data.csv')"
   ]
  },
  {
   "cell_type": "code",
   "execution_count": 46,
   "metadata": {},
   "outputs": [],
   "source": [
    "from nltk.stem.porter import PorterStemmer\n",
    "corpus = []\n",
    "for i in range(0, 23516):\n",
    "    tweet = re.sub('[^a-zA-Z]',' ',dataset['Tweet'][i])\n",
    "    tweet = tweet.lower()\n",
    "    tweet = tweet.split()\n",
    "    port_stem= PorterStemmer()\n",
    "    tweet = [port_stem.stem(word) for word in tweet if not word in set(stopwords.words('english'))]\n",
    "    tweet = ' '.join(tweet) \n",
    "    corpus.append(tweet)\n"
   ]
  },
  {
   "cell_type": "code",
   "execution_count": 47,
   "metadata": {},
   "outputs": [],
   "source": [
    "from sklearn.feature_extraction. text import CountVectorizer\n",
    "coun_vect = CountVectorizer(max_features = 3000)\n",
    "X = coun_vect.fit_transform(corpus).toarray() \n",
    "y = dataset.iloc[:, 3].values\n"
   ]
  },
  {
   "cell_type": "code",
   "execution_count": 50,
   "metadata": {},
   "outputs": [],
   "source": [
    "from sklearn.cross_validation import train_test_split\n",
    "X_train, X_test, y_train, y_test = train_test_split(X, y, test_size = 0.3, random_state = 0)\n"
   ]
  },
  {
   "cell_type": "code",
   "execution_count": 51,
   "metadata": {},
   "outputs": [
    {
     "data": {
      "text/plain": [
       "GaussianNB(priors=None)"
      ]
     },
     "execution_count": 51,
     "metadata": {},
     "output_type": "execute_result"
    }
   ],
   "source": [
    "from sklearn.naive_bayes import GaussianNB\n",
    "clf=GaussianNB ()\n",
    "clf.fit(X_train, y_train)\n"
   ]
  },
  {
   "cell_type": "code",
   "execution_count": 53,
   "metadata": {},
   "outputs": [],
   "source": [
    " y_pred = clf.predict(X_test)"
   ]
  },
  {
   "cell_type": "code",
   "execution_count": 55,
   "metadata": {},
   "outputs": [],
   "source": [
    "from sklearn.metrics import confusion_matrix\n",
    "conf_mat = confusion_matrix(y_test, y_pred)\n"
   ]
  },
  {
   "cell_type": "code",
   "execution_count": 56,
   "metadata": {},
   "outputs": [
    {
     "data": {
      "text/plain": [
       "array([[1985, 3003],\n",
       "       [ 166, 1901]], dtype=int64)"
      ]
     },
     "execution_count": 56,
     "metadata": {},
     "output_type": "execute_result"
    }
   ],
   "source": [
    "conf_mat"
   ]
  },
  {
   "cell_type": "code",
   "execution_count": 57,
   "metadata": {},
   "outputs": [
    {
     "data": {
      "text/plain": [
       "0.6619024022433715"
      ]
     },
     "execution_count": 57,
     "metadata": {},
     "output_type": "execute_result"
    }
   ],
   "source": [
    "from sklearn.metrics import roc_auc_score\n",
    "roc_auc_score(y_test, clf.predict_proba (X_test)[:,1])\n"
   ]
  },
  {
   "cell_type": "code",
   "execution_count": 59,
   "metadata": {},
   "outputs": [
    {
     "data": {
      "text/plain": [
       "<bound method NDFrame.head of          UserId  TweetId                                              Tweet  \\\n",
       "0      10030778   413205      Intravenous azithromycin-induced ototoxicity.   \n",
       "1      10048291   528244  Immobilization, while Paget's bone disease was...   \n",
       "2      10048291   361834  Unaccountable severe hypercalcemia in a patien...   \n",
       "3      10082597   292240  METHODS: We report two cases of pseudoporphyri...   \n",
       "4      10082597   467101  METHODS: We report two cases of pseudoporphyri...   \n",
       "5      10082597   599105  Naproxen, the most common offender, has been a...   \n",
       "6      10082597   259287  RESULTS: A 44-year-old man taking naproxen for...   \n",
       "7      10082597   479710  RESULTS: A 44-year-old man taking naproxen for...   \n",
       "8      10082597   141130  RESULTS: A 44-year-old man taking naproxen for...   \n",
       "9      10082597   787933  RESULTS: A 44-year-old man taking naproxen for...   \n",
       "10     10084639   938859  BACKGROUND: How to best treat psychotic patien...   \n",
       "11     10084639    70118  CONCLUSION: The results suggest that olanzapin...   \n",
       "12     10099659   312663  Prolonged severe 5-fluorouracil-associated neu...   \n",
       "13     10099659   689114  We describe the side effects of 5-FU in a colo...   \n",
       "14     10099659   967494  We describe the side effects of 5-FU in a colo...   \n",
       "15     10099659   166825  We describe the side effects of 5-FU in a colo...   \n",
       "16     10102531   105676  This case suggests that BH-AC, a derivative of...   \n",
       "17     10102531   919102  We report a case of reversible encephalopathy ...   \n",
       "18     10102531    56276  We report a case of reversible encephalopathy ...   \n",
       "19     10190739   256366  In one case, the readministration of riluzole ...   \n",
       "20     10190739   909316  We report the cases of two patients who develo...   \n",
       "21     10203437   925236  Lupus-like syndrome caused by 5-aminosalicylic...   \n",
       "22     10225085   114521  Although the two local anesthetics usually do ...   \n",
       "23     10225085   500892  Methemoglobinemia after axillary block with bu...   \n",
       "24     10225085   696671  Methemoglobinemia after axillary block with bu...   \n",
       "25     10225085   415757  We report a patient with chronic renal failure...   \n",
       "26     10225085   189631  We report a patient with chronic renal failure...   \n",
       "27     10229976   326452  Detection of activated eosinophils in nasal po...   \n",
       "28     10327035   814286  An episode of subacute encephalopathy after th...   \n",
       "29     10327035   991608  We believe that this represents an unusual cas...   \n",
       "...         ...      ...                                                ...   \n",
       "23486  17763133   212131  The patient received hyperbaric oxygen therapy...   \n",
       "23487  17763133   182360  Olanzapine may be considered a potential and s...   \n",
       "23488  17763133   396131  We report herein the case of a 69-year-old Jap...   \n",
       "23489  17763133   492895  DISCUSSION: Itraconazole pulse therapy for ony...   \n",
       "23490  17763133   493401  Repeat catheter and peripheral culturing occur...   \n",
       "23491  17763133   901638  Most cases are due to Candida spp. while Asper...   \n",
       "23492  17823522   648412  We describe a case of delayed onset HIT with r...   \n",
       "23493  17823522   719423  Prompt recognition of a chlorambucil drug reac...   \n",
       "23494  17823522   899678  Correlated with the lesions evaluated in compu...   \n",
       "23495  17823522   786537  Two years later, his treatment was switched to...   \n",
       "23496  17827517   773603  Apomorphine-induced erections in PD are probab...   \n",
       "23497  17852449   163587  Diagnosis was confirmed by polymerase chain re...   \n",
       "23498  17873198   977305  Final treatment plans for the HNCP should incl...   \n",
       "23499  17873198   763689  Further observations and reports will help cla...   \n",
       "23500  17873198   782598  In vivo confocal microscopic findings of inter...   \n",
       "23501  17873198   668075  Samples with concentrations exceeding the line...   \n",
       "23502  17873198   395822  Clinical findings included Horner's syndrome, ...   \n",
       "23503  17873198   659024  A 26-year-old HIV-seropositive Caucasian man w...   \n",
       "23504  17873198   131637  The arterial ketone body ratio (AKBR), which i...   \n",
       "23505  17876386   339895  The catheter was removed after 14 days because...   \n",
       "23506  17876386   246419  The number of suspected ADRs remains small, es...   \n",
       "23507  17880357   189787  He presented with hypokalemia and hyperchlorem...   \n",
       "23508  17880357   580204  OVERVIEW: Diagnosis of diabetes mellitus (DM) ...   \n",
       "23509  17921794   458600  It can mimic other diseases because of its non...   \n",
       "23510  17921794   627078  Starting with the 8th hospital day, the thromb...   \n",
       "23511  17921794   146275  At autopsy, the liver was found to be small, s...   \n",
       "23512  17921794   375409  Physical exam revealed a patient with aphasia,...   \n",
       "23513  17921794   246581  At the time when the leukemia appeared seven o...   \n",
       "23514  17921794   534599  The American Society for Regional Anesthesia a...   \n",
       "23515  17921794   660865  Concomitant administration of estradiol result...   \n",
       "\n",
       "       ADR_label  \n",
       "0              1  \n",
       "1              1  \n",
       "2              1  \n",
       "3              1  \n",
       "4              1  \n",
       "5              1  \n",
       "6              1  \n",
       "7              1  \n",
       "8              1  \n",
       "9              1  \n",
       "10             1  \n",
       "11             1  \n",
       "12             1  \n",
       "13             1  \n",
       "14             1  \n",
       "15             1  \n",
       "16             1  \n",
       "17             1  \n",
       "18             1  \n",
       "19             1  \n",
       "20             1  \n",
       "21             1  \n",
       "22             1  \n",
       "23             1  \n",
       "24             1  \n",
       "25             1  \n",
       "26             1  \n",
       "27             1  \n",
       "28             1  \n",
       "29             1  \n",
       "...          ...  \n",
       "23486          0  \n",
       "23487          0  \n",
       "23488          0  \n",
       "23489          0  \n",
       "23490          0  \n",
       "23491          0  \n",
       "23492          0  \n",
       "23493          0  \n",
       "23494          0  \n",
       "23495          0  \n",
       "23496          0  \n",
       "23497          0  \n",
       "23498          0  \n",
       "23499          0  \n",
       "23500          0  \n",
       "23501          0  \n",
       "23502          0  \n",
       "23503          0  \n",
       "23504          0  \n",
       "23505          0  \n",
       "23506          0  \n",
       "23507          0  \n",
       "23508          0  \n",
       "23509          0  \n",
       "23510          0  \n",
       "23511          0  \n",
       "23512          0  \n",
       "23513          0  \n",
       "23514          0  \n",
       "23515          0  \n",
       "\n",
       "[23516 rows x 4 columns]>"
      ]
     },
     "execution_count": 59,
     "metadata": {},
     "output_type": "execute_result"
    }
   ],
   "source": [
    "dataset.head"
   ]
  },
  {
   "cell_type": "code",
   "execution_count": 65,
   "metadata": {},
   "outputs": [
    {
     "data": {
      "text/plain": [
       "KNeighborsClassifier(algorithm='auto', leaf_size=30, metric='minkowski',\n",
       "           metric_params=None, n_jobs=1, n_neighbors=3, p=2,\n",
       "           weights='uniform')"
      ]
     },
     "execution_count": 65,
     "metadata": {},
     "output_type": "execute_result"
    }
   ],
   "source": [
    "from sklearn.neighbors import KNeighborsClassifier\n",
    "clf1= KNeighborsClassifier(n_neighbors=3)\n",
    "clf1.fit(X_train,y_train)"
   ]
  },
  {
   "cell_type": "code",
   "execution_count": 66,
   "metadata": {},
   "outputs": [],
   "source": [
    "y_pred=clf1.predict(X_test)"
   ]
  },
  {
   "cell_type": "code",
   "execution_count": 67,
   "metadata": {},
   "outputs": [],
   "source": [
    "from sklearn.metrics import confusion_matrix\n",
    "conf_mat = confusion_matrix(y_test, y_pred)"
   ]
  },
  {
   "cell_type": "code",
   "execution_count": 68,
   "metadata": {},
   "outputs": [
    {
     "data": {
      "text/plain": [
       "array([[4798,  190],\n",
       "       [1030, 1037]], dtype=int64)"
      ]
     },
     "execution_count": 68,
     "metadata": {},
     "output_type": "execute_result"
    }
   ],
   "source": [
    "conf_mat"
   ]
  },
  {
   "cell_type": "code",
   "execution_count": 69,
   "metadata": {},
   "outputs": [
    {
     "data": {
      "text/plain": [
       "0.8273209840045718"
      ]
     },
     "execution_count": 69,
     "metadata": {},
     "output_type": "execute_result"
    }
   ],
   "source": [
    "from sklearn.metrics import roc_auc_score\n",
    "roc_auc_score(y_test, clf1.predict_proba (X_test)[:,1])"
   ]
  },
  {
   "cell_type": "code",
   "execution_count": 70,
   "metadata": {},
   "outputs": [
    {
     "data": {
      "text/plain": [
       "<bound method NDFrame.head of          UserId  TweetId                                              Tweet  \\\n",
       "0      10030778   413205      Intravenous azithromycin-induced ototoxicity.   \n",
       "1      10048291   528244  Immobilization, while Paget's bone disease was...   \n",
       "2      10048291   361834  Unaccountable severe hypercalcemia in a patien...   \n",
       "3      10082597   292240  METHODS: We report two cases of pseudoporphyri...   \n",
       "4      10082597   467101  METHODS: We report two cases of pseudoporphyri...   \n",
       "5      10082597   599105  Naproxen, the most common offender, has been a...   \n",
       "6      10082597   259287  RESULTS: A 44-year-old man taking naproxen for...   \n",
       "7      10082597   479710  RESULTS: A 44-year-old man taking naproxen for...   \n",
       "8      10082597   141130  RESULTS: A 44-year-old man taking naproxen for...   \n",
       "9      10082597   787933  RESULTS: A 44-year-old man taking naproxen for...   \n",
       "10     10084639   938859  BACKGROUND: How to best treat psychotic patien...   \n",
       "11     10084639    70118  CONCLUSION: The results suggest that olanzapin...   \n",
       "12     10099659   312663  Prolonged severe 5-fluorouracil-associated neu...   \n",
       "13     10099659   689114  We describe the side effects of 5-FU in a colo...   \n",
       "14     10099659   967494  We describe the side effects of 5-FU in a colo...   \n",
       "15     10099659   166825  We describe the side effects of 5-FU in a colo...   \n",
       "16     10102531   105676  This case suggests that BH-AC, a derivative of...   \n",
       "17     10102531   919102  We report a case of reversible encephalopathy ...   \n",
       "18     10102531    56276  We report a case of reversible encephalopathy ...   \n",
       "19     10190739   256366  In one case, the readministration of riluzole ...   \n",
       "20     10190739   909316  We report the cases of two patients who develo...   \n",
       "21     10203437   925236  Lupus-like syndrome caused by 5-aminosalicylic...   \n",
       "22     10225085   114521  Although the two local anesthetics usually do ...   \n",
       "23     10225085   500892  Methemoglobinemia after axillary block with bu...   \n",
       "24     10225085   696671  Methemoglobinemia after axillary block with bu...   \n",
       "25     10225085   415757  We report a patient with chronic renal failure...   \n",
       "26     10225085   189631  We report a patient with chronic renal failure...   \n",
       "27     10229976   326452  Detection of activated eosinophils in nasal po...   \n",
       "28     10327035   814286  An episode of subacute encephalopathy after th...   \n",
       "29     10327035   991608  We believe that this represents an unusual cas...   \n",
       "...         ...      ...                                                ...   \n",
       "23486  17763133   212131  The patient received hyperbaric oxygen therapy...   \n",
       "23487  17763133   182360  Olanzapine may be considered a potential and s...   \n",
       "23488  17763133   396131  We report herein the case of a 69-year-old Jap...   \n",
       "23489  17763133   492895  DISCUSSION: Itraconazole pulse therapy for ony...   \n",
       "23490  17763133   493401  Repeat catheter and peripheral culturing occur...   \n",
       "23491  17763133   901638  Most cases are due to Candida spp. while Asper...   \n",
       "23492  17823522   648412  We describe a case of delayed onset HIT with r...   \n",
       "23493  17823522   719423  Prompt recognition of a chlorambucil drug reac...   \n",
       "23494  17823522   899678  Correlated with the lesions evaluated in compu...   \n",
       "23495  17823522   786537  Two years later, his treatment was switched to...   \n",
       "23496  17827517   773603  Apomorphine-induced erections in PD are probab...   \n",
       "23497  17852449   163587  Diagnosis was confirmed by polymerase chain re...   \n",
       "23498  17873198   977305  Final treatment plans for the HNCP should incl...   \n",
       "23499  17873198   763689  Further observations and reports will help cla...   \n",
       "23500  17873198   782598  In vivo confocal microscopic findings of inter...   \n",
       "23501  17873198   668075  Samples with concentrations exceeding the line...   \n",
       "23502  17873198   395822  Clinical findings included Horner's syndrome, ...   \n",
       "23503  17873198   659024  A 26-year-old HIV-seropositive Caucasian man w...   \n",
       "23504  17873198   131637  The arterial ketone body ratio (AKBR), which i...   \n",
       "23505  17876386   339895  The catheter was removed after 14 days because...   \n",
       "23506  17876386   246419  The number of suspected ADRs remains small, es...   \n",
       "23507  17880357   189787  He presented with hypokalemia and hyperchlorem...   \n",
       "23508  17880357   580204  OVERVIEW: Diagnosis of diabetes mellitus (DM) ...   \n",
       "23509  17921794   458600  It can mimic other diseases because of its non...   \n",
       "23510  17921794   627078  Starting with the 8th hospital day, the thromb...   \n",
       "23511  17921794   146275  At autopsy, the liver was found to be small, s...   \n",
       "23512  17921794   375409  Physical exam revealed a patient with aphasia,...   \n",
       "23513  17921794   246581  At the time when the leukemia appeared seven o...   \n",
       "23514  17921794   534599  The American Society for Regional Anesthesia a...   \n",
       "23515  17921794   660865  Concomitant administration of estradiol result...   \n",
       "\n",
       "       ADR_label  \n",
       "0              1  \n",
       "1              1  \n",
       "2              1  \n",
       "3              1  \n",
       "4              1  \n",
       "5              1  \n",
       "6              1  \n",
       "7              1  \n",
       "8              1  \n",
       "9              1  \n",
       "10             1  \n",
       "11             1  \n",
       "12             1  \n",
       "13             1  \n",
       "14             1  \n",
       "15             1  \n",
       "16             1  \n",
       "17             1  \n",
       "18             1  \n",
       "19             1  \n",
       "20             1  \n",
       "21             1  \n",
       "22             1  \n",
       "23             1  \n",
       "24             1  \n",
       "25             1  \n",
       "26             1  \n",
       "27             1  \n",
       "28             1  \n",
       "29             1  \n",
       "...          ...  \n",
       "23486          0  \n",
       "23487          0  \n",
       "23488          0  \n",
       "23489          0  \n",
       "23490          0  \n",
       "23491          0  \n",
       "23492          0  \n",
       "23493          0  \n",
       "23494          0  \n",
       "23495          0  \n",
       "23496          0  \n",
       "23497          0  \n",
       "23498          0  \n",
       "23499          0  \n",
       "23500          0  \n",
       "23501          0  \n",
       "23502          0  \n",
       "23503          0  \n",
       "23504          0  \n",
       "23505          0  \n",
       "23506          0  \n",
       "23507          0  \n",
       "23508          0  \n",
       "23509          0  \n",
       "23510          0  \n",
       "23511          0  \n",
       "23512          0  \n",
       "23513          0  \n",
       "23514          0  \n",
       "23515          0  \n",
       "\n",
       "[23516 rows x 4 columns]>"
      ]
     },
     "execution_count": 70,
     "metadata": {},
     "output_type": "execute_result"
    }
   ],
   "source": [
    "dataset.head"
   ]
  },
  {
   "cell_type": "code",
   "execution_count": 74,
   "metadata": {},
   "outputs": [
    {
     "data": {
      "text/plain": [
       "RandomForestClassifier(bootstrap=True, class_weight=None, criterion='gini',\n",
       "            max_depth=2, max_features='auto', max_leaf_nodes=None,\n",
       "            min_impurity_decrease=0.0, min_impurity_split=None,\n",
       "            min_samples_leaf=1, min_samples_split=2,\n",
       "            min_weight_fraction_leaf=0.0, n_estimators=100, n_jobs=1,\n",
       "            oob_score=False, random_state=0, verbose=0, warm_start=False)"
      ]
     },
     "execution_count": 74,
     "metadata": {},
     "output_type": "execute_result"
    }
   ],
   "source": [
    "from sklearn.ensemble import RandomForestClassifier\n",
    "clf3 = RandomForestClassifier(n_estimators=100, max_depth=2,\n",
    "                              random_state=0)\n",
    "clf3.fit(X_train,y_train)"
   ]
  },
  {
   "cell_type": "code",
   "execution_count": 75,
   "metadata": {},
   "outputs": [],
   "source": [
    "y_pred=clf3.predict(X_test)"
   ]
  },
  {
   "cell_type": "code",
   "execution_count": 76,
   "metadata": {},
   "outputs": [],
   "source": [
    "from sklearn.metrics import confusion_matrix\n",
    "conf_mat = confusion_matrix(y_test, y_pred)"
   ]
  },
  {
   "cell_type": "code",
   "execution_count": 77,
   "metadata": {},
   "outputs": [
    {
     "data": {
      "text/plain": [
       "array([[4988,    0],\n",
       "       [2067,    0]], dtype=int64)"
      ]
     },
     "execution_count": 77,
     "metadata": {},
     "output_type": "execute_result"
    }
   ],
   "source": [
    "conf_mat"
   ]
  },
  {
   "cell_type": "code",
   "execution_count": 80,
   "metadata": {},
   "outputs": [
    {
     "data": {
      "text/plain": [
       "0.820290661787613"
      ]
     },
     "execution_count": 80,
     "metadata": {},
     "output_type": "execute_result"
    }
   ],
   "source": [
    "from sklearn.metrics import roc_auc_score\n",
    "roc_auc_score(y_test, clf3.predict_proba (X_test)[:,1])"
   ]
  },
  {
   "cell_type": "code",
   "execution_count": 81,
   "metadata": {},
   "outputs": [
    {
     "data": {
      "text/plain": [
       "<bound method NDFrame.head of          UserId  TweetId                                              Tweet  \\\n",
       "0      10030778   413205      Intravenous azithromycin-induced ototoxicity.   \n",
       "1      10048291   528244  Immobilization, while Paget's bone disease was...   \n",
       "2      10048291   361834  Unaccountable severe hypercalcemia in a patien...   \n",
       "3      10082597   292240  METHODS: We report two cases of pseudoporphyri...   \n",
       "4      10082597   467101  METHODS: We report two cases of pseudoporphyri...   \n",
       "5      10082597   599105  Naproxen, the most common offender, has been a...   \n",
       "6      10082597   259287  RESULTS: A 44-year-old man taking naproxen for...   \n",
       "7      10082597   479710  RESULTS: A 44-year-old man taking naproxen for...   \n",
       "8      10082597   141130  RESULTS: A 44-year-old man taking naproxen for...   \n",
       "9      10082597   787933  RESULTS: A 44-year-old man taking naproxen for...   \n",
       "10     10084639   938859  BACKGROUND: How to best treat psychotic patien...   \n",
       "11     10084639    70118  CONCLUSION: The results suggest that olanzapin...   \n",
       "12     10099659   312663  Prolonged severe 5-fluorouracil-associated neu...   \n",
       "13     10099659   689114  We describe the side effects of 5-FU in a colo...   \n",
       "14     10099659   967494  We describe the side effects of 5-FU in a colo...   \n",
       "15     10099659   166825  We describe the side effects of 5-FU in a colo...   \n",
       "16     10102531   105676  This case suggests that BH-AC, a derivative of...   \n",
       "17     10102531   919102  We report a case of reversible encephalopathy ...   \n",
       "18     10102531    56276  We report a case of reversible encephalopathy ...   \n",
       "19     10190739   256366  In one case, the readministration of riluzole ...   \n",
       "20     10190739   909316  We report the cases of two patients who develo...   \n",
       "21     10203437   925236  Lupus-like syndrome caused by 5-aminosalicylic...   \n",
       "22     10225085   114521  Although the two local anesthetics usually do ...   \n",
       "23     10225085   500892  Methemoglobinemia after axillary block with bu...   \n",
       "24     10225085   696671  Methemoglobinemia after axillary block with bu...   \n",
       "25     10225085   415757  We report a patient with chronic renal failure...   \n",
       "26     10225085   189631  We report a patient with chronic renal failure...   \n",
       "27     10229976   326452  Detection of activated eosinophils in nasal po...   \n",
       "28     10327035   814286  An episode of subacute encephalopathy after th...   \n",
       "29     10327035   991608  We believe that this represents an unusual cas...   \n",
       "...         ...      ...                                                ...   \n",
       "23486  17763133   212131  The patient received hyperbaric oxygen therapy...   \n",
       "23487  17763133   182360  Olanzapine may be considered a potential and s...   \n",
       "23488  17763133   396131  We report herein the case of a 69-year-old Jap...   \n",
       "23489  17763133   492895  DISCUSSION: Itraconazole pulse therapy for ony...   \n",
       "23490  17763133   493401  Repeat catheter and peripheral culturing occur...   \n",
       "23491  17763133   901638  Most cases are due to Candida spp. while Asper...   \n",
       "23492  17823522   648412  We describe a case of delayed onset HIT with r...   \n",
       "23493  17823522   719423  Prompt recognition of a chlorambucil drug reac...   \n",
       "23494  17823522   899678  Correlated with the lesions evaluated in compu...   \n",
       "23495  17823522   786537  Two years later, his treatment was switched to...   \n",
       "23496  17827517   773603  Apomorphine-induced erections in PD are probab...   \n",
       "23497  17852449   163587  Diagnosis was confirmed by polymerase chain re...   \n",
       "23498  17873198   977305  Final treatment plans for the HNCP should incl...   \n",
       "23499  17873198   763689  Further observations and reports will help cla...   \n",
       "23500  17873198   782598  In vivo confocal microscopic findings of inter...   \n",
       "23501  17873198   668075  Samples with concentrations exceeding the line...   \n",
       "23502  17873198   395822  Clinical findings included Horner's syndrome, ...   \n",
       "23503  17873198   659024  A 26-year-old HIV-seropositive Caucasian man w...   \n",
       "23504  17873198   131637  The arterial ketone body ratio (AKBR), which i...   \n",
       "23505  17876386   339895  The catheter was removed after 14 days because...   \n",
       "23506  17876386   246419  The number of suspected ADRs remains small, es...   \n",
       "23507  17880357   189787  He presented with hypokalemia and hyperchlorem...   \n",
       "23508  17880357   580204  OVERVIEW: Diagnosis of diabetes mellitus (DM) ...   \n",
       "23509  17921794   458600  It can mimic other diseases because of its non...   \n",
       "23510  17921794   627078  Starting with the 8th hospital day, the thromb...   \n",
       "23511  17921794   146275  At autopsy, the liver was found to be small, s...   \n",
       "23512  17921794   375409  Physical exam revealed a patient with aphasia,...   \n",
       "23513  17921794   246581  At the time when the leukemia appeared seven o...   \n",
       "23514  17921794   534599  The American Society for Regional Anesthesia a...   \n",
       "23515  17921794   660865  Concomitant administration of estradiol result...   \n",
       "\n",
       "       ADR_label  \n",
       "0              1  \n",
       "1              1  \n",
       "2              1  \n",
       "3              1  \n",
       "4              1  \n",
       "5              1  \n",
       "6              1  \n",
       "7              1  \n",
       "8              1  \n",
       "9              1  \n",
       "10             1  \n",
       "11             1  \n",
       "12             1  \n",
       "13             1  \n",
       "14             1  \n",
       "15             1  \n",
       "16             1  \n",
       "17             1  \n",
       "18             1  \n",
       "19             1  \n",
       "20             1  \n",
       "21             1  \n",
       "22             1  \n",
       "23             1  \n",
       "24             1  \n",
       "25             1  \n",
       "26             1  \n",
       "27             1  \n",
       "28             1  \n",
       "29             1  \n",
       "...          ...  \n",
       "23486          0  \n",
       "23487          0  \n",
       "23488          0  \n",
       "23489          0  \n",
       "23490          0  \n",
       "23491          0  \n",
       "23492          0  \n",
       "23493          0  \n",
       "23494          0  \n",
       "23495          0  \n",
       "23496          0  \n",
       "23497          0  \n",
       "23498          0  \n",
       "23499          0  \n",
       "23500          0  \n",
       "23501          0  \n",
       "23502          0  \n",
       "23503          0  \n",
       "23504          0  \n",
       "23505          0  \n",
       "23506          0  \n",
       "23507          0  \n",
       "23508          0  \n",
       "23509          0  \n",
       "23510          0  \n",
       "23511          0  \n",
       "23512          0  \n",
       "23513          0  \n",
       "23514          0  \n",
       "23515          0  \n",
       "\n",
       "[23516 rows x 4 columns]>"
      ]
     },
     "execution_count": 81,
     "metadata": {},
     "output_type": "execute_result"
    }
   ],
   "source": [
    "dataset.head"
   ]
  },
  {
   "cell_type": "code",
   "execution_count": 82,
   "metadata": {},
   "outputs": [
    {
     "data": {
      "text/plain": [
       "LogisticRegression(C=1.0, class_weight=None, dual=False, fit_intercept=True,\n",
       "          intercept_scaling=1, max_iter=100, multi_class='multinomial',\n",
       "          n_jobs=1, penalty='l2', random_state=0, solver='lbfgs',\n",
       "          tol=0.0001, verbose=0, warm_start=False)"
      ]
     },
     "execution_count": 82,
     "metadata": {},
     "output_type": "execute_result"
    }
   ],
   "source": [
    "from sklearn.linear_model import LogisticRegression\n",
    "clf4 = LogisticRegression(random_state=0, solver='lbfgs',\n",
    "                         multi_class='multinomial').fit(X, y)\n",
    "clf4.fit(X_train,y_train)"
   ]
  },
  {
   "cell_type": "code",
   "execution_count": 83,
   "metadata": {},
   "outputs": [],
   "source": [
    "y_pred=clf4.predict(X_test)"
   ]
  },
  {
   "cell_type": "code",
   "execution_count": 84,
   "metadata": {},
   "outputs": [],
   "source": [
    "from sklearn.metrics import confusion_matrix\n",
    "conf_mat = confusion_matrix(y_test, y_pred)"
   ]
  },
  {
   "cell_type": "code",
   "execution_count": 85,
   "metadata": {},
   "outputs": [
    {
     "data": {
      "text/plain": [
       "array([[4624,  364],\n",
       "       [ 524, 1543]], dtype=int64)"
      ]
     },
     "execution_count": 85,
     "metadata": {},
     "output_type": "execute_result"
    }
   ],
   "source": [
    "conf_mat"
   ]
  },
  {
   "cell_type": "code",
   "execution_count": 86,
   "metadata": {},
   "outputs": [
    {
     "data": {
      "text/plain": [
       "0.9271057989586231"
      ]
     },
     "execution_count": 86,
     "metadata": {},
     "output_type": "execute_result"
    }
   ],
   "source": [
    "from sklearn.metrics import roc_auc_score\n",
    "roc_auc_score(y_test, clf4.predict_proba (X_test)[:,1])"
   ]
  },
  {
   "cell_type": "code",
   "execution_count": 87,
   "metadata": {},
   "outputs": [
    {
     "data": {
      "text/plain": [
       "<bound method NDFrame.head of          UserId  TweetId                                              Tweet  \\\n",
       "0      10030778   413205      Intravenous azithromycin-induced ototoxicity.   \n",
       "1      10048291   528244  Immobilization, while Paget's bone disease was...   \n",
       "2      10048291   361834  Unaccountable severe hypercalcemia in a patien...   \n",
       "3      10082597   292240  METHODS: We report two cases of pseudoporphyri...   \n",
       "4      10082597   467101  METHODS: We report two cases of pseudoporphyri...   \n",
       "5      10082597   599105  Naproxen, the most common offender, has been a...   \n",
       "6      10082597   259287  RESULTS: A 44-year-old man taking naproxen for...   \n",
       "7      10082597   479710  RESULTS: A 44-year-old man taking naproxen for...   \n",
       "8      10082597   141130  RESULTS: A 44-year-old man taking naproxen for...   \n",
       "9      10082597   787933  RESULTS: A 44-year-old man taking naproxen for...   \n",
       "10     10084639   938859  BACKGROUND: How to best treat psychotic patien...   \n",
       "11     10084639    70118  CONCLUSION: The results suggest that olanzapin...   \n",
       "12     10099659   312663  Prolonged severe 5-fluorouracil-associated neu...   \n",
       "13     10099659   689114  We describe the side effects of 5-FU in a colo...   \n",
       "14     10099659   967494  We describe the side effects of 5-FU in a colo...   \n",
       "15     10099659   166825  We describe the side effects of 5-FU in a colo...   \n",
       "16     10102531   105676  This case suggests that BH-AC, a derivative of...   \n",
       "17     10102531   919102  We report a case of reversible encephalopathy ...   \n",
       "18     10102531    56276  We report a case of reversible encephalopathy ...   \n",
       "19     10190739   256366  In one case, the readministration of riluzole ...   \n",
       "20     10190739   909316  We report the cases of two patients who develo...   \n",
       "21     10203437   925236  Lupus-like syndrome caused by 5-aminosalicylic...   \n",
       "22     10225085   114521  Although the two local anesthetics usually do ...   \n",
       "23     10225085   500892  Methemoglobinemia after axillary block with bu...   \n",
       "24     10225085   696671  Methemoglobinemia after axillary block with bu...   \n",
       "25     10225085   415757  We report a patient with chronic renal failure...   \n",
       "26     10225085   189631  We report a patient with chronic renal failure...   \n",
       "27     10229976   326452  Detection of activated eosinophils in nasal po...   \n",
       "28     10327035   814286  An episode of subacute encephalopathy after th...   \n",
       "29     10327035   991608  We believe that this represents an unusual cas...   \n",
       "...         ...      ...                                                ...   \n",
       "23486  17763133   212131  The patient received hyperbaric oxygen therapy...   \n",
       "23487  17763133   182360  Olanzapine may be considered a potential and s...   \n",
       "23488  17763133   396131  We report herein the case of a 69-year-old Jap...   \n",
       "23489  17763133   492895  DISCUSSION: Itraconazole pulse therapy for ony...   \n",
       "23490  17763133   493401  Repeat catheter and peripheral culturing occur...   \n",
       "23491  17763133   901638  Most cases are due to Candida spp. while Asper...   \n",
       "23492  17823522   648412  We describe a case of delayed onset HIT with r...   \n",
       "23493  17823522   719423  Prompt recognition of a chlorambucil drug reac...   \n",
       "23494  17823522   899678  Correlated with the lesions evaluated in compu...   \n",
       "23495  17823522   786537  Two years later, his treatment was switched to...   \n",
       "23496  17827517   773603  Apomorphine-induced erections in PD are probab...   \n",
       "23497  17852449   163587  Diagnosis was confirmed by polymerase chain re...   \n",
       "23498  17873198   977305  Final treatment plans for the HNCP should incl...   \n",
       "23499  17873198   763689  Further observations and reports will help cla...   \n",
       "23500  17873198   782598  In vivo confocal microscopic findings of inter...   \n",
       "23501  17873198   668075  Samples with concentrations exceeding the line...   \n",
       "23502  17873198   395822  Clinical findings included Horner's syndrome, ...   \n",
       "23503  17873198   659024  A 26-year-old HIV-seropositive Caucasian man w...   \n",
       "23504  17873198   131637  The arterial ketone body ratio (AKBR), which i...   \n",
       "23505  17876386   339895  The catheter was removed after 14 days because...   \n",
       "23506  17876386   246419  The number of suspected ADRs remains small, es...   \n",
       "23507  17880357   189787  He presented with hypokalemia and hyperchlorem...   \n",
       "23508  17880357   580204  OVERVIEW: Diagnosis of diabetes mellitus (DM) ...   \n",
       "23509  17921794   458600  It can mimic other diseases because of its non...   \n",
       "23510  17921794   627078  Starting with the 8th hospital day, the thromb...   \n",
       "23511  17921794   146275  At autopsy, the liver was found to be small, s...   \n",
       "23512  17921794   375409  Physical exam revealed a patient with aphasia,...   \n",
       "23513  17921794   246581  At the time when the leukemia appeared seven o...   \n",
       "23514  17921794   534599  The American Society for Regional Anesthesia a...   \n",
       "23515  17921794   660865  Concomitant administration of estradiol result...   \n",
       "\n",
       "       ADR_label  \n",
       "0              1  \n",
       "1              1  \n",
       "2              1  \n",
       "3              1  \n",
       "4              1  \n",
       "5              1  \n",
       "6              1  \n",
       "7              1  \n",
       "8              1  \n",
       "9              1  \n",
       "10             1  \n",
       "11             1  \n",
       "12             1  \n",
       "13             1  \n",
       "14             1  \n",
       "15             1  \n",
       "16             1  \n",
       "17             1  \n",
       "18             1  \n",
       "19             1  \n",
       "20             1  \n",
       "21             1  \n",
       "22             1  \n",
       "23             1  \n",
       "24             1  \n",
       "25             1  \n",
       "26             1  \n",
       "27             1  \n",
       "28             1  \n",
       "29             1  \n",
       "...          ...  \n",
       "23486          0  \n",
       "23487          0  \n",
       "23488          0  \n",
       "23489          0  \n",
       "23490          0  \n",
       "23491          0  \n",
       "23492          0  \n",
       "23493          0  \n",
       "23494          0  \n",
       "23495          0  \n",
       "23496          0  \n",
       "23497          0  \n",
       "23498          0  \n",
       "23499          0  \n",
       "23500          0  \n",
       "23501          0  \n",
       "23502          0  \n",
       "23503          0  \n",
       "23504          0  \n",
       "23505          0  \n",
       "23506          0  \n",
       "23507          0  \n",
       "23508          0  \n",
       "23509          0  \n",
       "23510          0  \n",
       "23511          0  \n",
       "23512          0  \n",
       "23513          0  \n",
       "23514          0  \n",
       "23515          0  \n",
       "\n",
       "[23516 rows x 4 columns]>"
      ]
     },
     "execution_count": 87,
     "metadata": {},
     "output_type": "execute_result"
    }
   ],
   "source": [
    "dataset.head"
   ]
  },
  {
   "cell_type": "code",
   "execution_count": null,
   "metadata": {},
   "outputs": [],
   "source": []
  }
 ],
 "metadata": {
  "kernelspec": {
   "display_name": "Python 3",
   "language": "python",
   "name": "python3"
  },
  "language_info": {
   "codemirror_mode": {
    "name": "ipython",
    "version": 3
   },
   "file_extension": ".py",
   "mimetype": "text/x-python",
   "name": "python",
   "nbconvert_exporter": "python",
   "pygments_lexer": "ipython3",
   "version": "3.7.2"
  }
 },
 "nbformat": 4,
 "nbformat_minor": 2
}
